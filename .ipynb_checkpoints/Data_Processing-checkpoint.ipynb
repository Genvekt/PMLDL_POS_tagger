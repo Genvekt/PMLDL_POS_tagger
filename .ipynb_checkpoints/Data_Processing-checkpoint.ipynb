{
 "cells": [
  {
   "cell_type": "code",
   "execution_count": 4,
   "metadata": {},
   "outputs": [
    {
     "ename": "ModuleNotFoundError",
     "evalue": "No module named 'torch'",
     "output_type": "error",
     "traceback": [
      "\u001b[0;31m---------------------------------------------------------------------------\u001b[0m",
      "\u001b[0;31mModuleNotFoundError\u001b[0m                       Traceback (most recent call last)",
      "\u001b[0;32m<ipython-input-4-f698300de0b7>\u001b[0m in \u001b[0;36m<module>\u001b[0;34m\u001b[0m\n\u001b[0;32m----> 1\u001b[0;31m \u001b[0;32mimport\u001b[0m \u001b[0mtorch\u001b[0m\u001b[0;34m\u001b[0m\u001b[0;34m\u001b[0m\u001b[0m\n\u001b[0m\u001b[1;32m      2\u001b[0m \u001b[0;32mfrom\u001b[0m \u001b[0mtorch\u001b[0m \u001b[0;32mimport\u001b[0m \u001b[0mnn\u001b[0m\u001b[0;34m\u001b[0m\u001b[0;34m\u001b[0m\u001b[0m\n\u001b[1;32m      3\u001b[0m \u001b[0;32mimport\u001b[0m \u001b[0mtorch\u001b[0m\u001b[0;34m.\u001b[0m\u001b[0mnn\u001b[0m\u001b[0;34m.\u001b[0m\u001b[0mfunctional\u001b[0m \u001b[0;32mas\u001b[0m \u001b[0mF\u001b[0m\u001b[0;34m\u001b[0m\u001b[0;34m\u001b[0m\u001b[0m\n",
      "\u001b[0;31mModuleNotFoundError\u001b[0m: No module named 'torch'"
     ]
    }
   ],
   "source": [
    "import torch\n",
    "from torch import nn\n",
    "import torch.nn.functional as F"
   ]
  },
  {
   "cell_type": "code",
   "execution_count": 5,
   "metadata": {},
   "outputs": [
    {
     "name": "stdout",
     "output_type": "stream",
     "text": [
      "Requirement already satisfied: torch in /usr/local/lib/python3.9/site-packages (1.7.1)\n",
      "Requirement already satisfied: typing-extensions in /usr/local/lib/python3.9/site-packages (from torch) (3.7.4.3)\n",
      "Requirement already satisfied: numpy in /usr/local/lib/python3.9/site-packages (from torch) (1.20.1)\n",
      "\u001b[33mWARNING: You are using pip version 20.3.3; however, version 21.0.1 is available.\n",
      "You should consider upgrading via the '/usr/local/opt/python@3.9/bin/python3.9 -m pip install --upgrade pip' command.\u001b[0m\n"
     ]
    }
   ],
   "source": [
    "!pip3 install torch"
   ]
  },
  {
   "cell_type": "code",
   "execution_count": 200,
   "metadata": {},
   "outputs": [],
   "source": [
    "ABSENT_WORD = (\"*****\", \"*****\")\n",
    "PADDING_CHAR = \" \"\n",
    "WINDOW_LEN = 5\n",
    "RANDOM_CHANCE=0.1"
   ]
  },
  {
   "cell_type": "code",
   "execution_count": 201,
   "metadata": {},
   "outputs": [],
   "source": [
    "def read_dataset(file_path, with_tags=True):\n",
    "    \"\"\"\n",
    "    Read the dataset from file\n",
    "    Args:\n",
    "        file_path (str): path to the file to read from\n",
    "        with_tags (bool): flag that indicates the presence of tags in data.\n",
    "                          Use False to read test data.\n",
    "    Returns:\n",
    "        If with_tags is true, the list of tuples, one for each sentence\n",
    "            One tuple contains list of lowercase words and corresponding list of tags\n",
    "        Othervise the list of lowercase word lists, one fo each sentence\n",
    "    \"\"\"\n",
    "    \n",
    "    dataset = []\n",
    "    with open(file_path, \"r\") as data_file:\n",
    "        for line in data_file.readlines():\n",
    "            # Split each sentence into items\n",
    "            items = line[:-1].split(\" \")\n",
    "            if with_tags:\n",
    "                # If tags are present, create separate lists of words and tags\n",
    "                words = []\n",
    "                tags = []\n",
    "                for item in items:\n",
    "                    [word, tag] = item.rsplit(\"/\", 1)\n",
    "                    words.append(word.lower())\n",
    "                    tags.append(tag)\n",
    "                dataset.append((words, tags))\n",
    "            else:\n",
    "                # If tags are not present, append word list to the dataset\n",
    "                dataset.append([word.lower() for word in items])\n",
    "    return dataset\n",
    "\n",
    "\n",
    "def dataset_to_dictionary(dataset, absent_pair=None, absent_char=None):\n",
    "    word_to_idx = {}\n",
    "    idx_to_word = {}\n",
    "    tag_to_idx = {}\n",
    "    idx_to_tag = {}\n",
    "    \n",
    "    char_to_idx = {}\n",
    "    idx_to_char = {}\n",
    "    \n",
    "    for (words, tags) in dataset:\n",
    "        for word in words:\n",
    "            if word not in word_to_idx:\n",
    "                idx = len(word_to_idx)\n",
    "                word_to_idx[word] = idx\n",
    "                idx_to_word[idx] = word\n",
    "            for letter in word:\n",
    "                if letter not in char_to_idx:\n",
    "                    idx = len(char_to_idx)\n",
    "                    char_to_idx[letter] = idx\n",
    "                    idx_to_char[idx] = letter\n",
    "            \n",
    "        for tag in tags:\n",
    "            if tag not in tag_to_idx:\n",
    "                idx = len(tag_to_idx)\n",
    "                tag_to_idx[tag] = idx\n",
    "                idx_to_tag[idx] = tag\n",
    "                \n",
    "    if absent_pair is not None:\n",
    "        absent_word, absent_tag = absent_pair\n",
    "        if absent_word not in word_to_idx:\n",
    "            idx = len(word_to_idx)\n",
    "            word_to_idx[absent_word] = idx\n",
    "            idx_to_word[idx] = absent_word\n",
    "        if absent_tag not in tag_to_idx:\n",
    "            idx = len(tag_to_idx)\n",
    "            tag_to_idx[absent_tag] = idx\n",
    "            idx_to_tag[idx] = absent_tag\n",
    "        for letter in absent_word:\n",
    "                if letter not in char_to_idx:\n",
    "                    idx = len(char_to_idx)\n",
    "                    char_to_idx[letter] = idx\n",
    "                    idx_to_char[idx] = letter\n",
    "    if absent_char is not None and absent_char not in char_to_idx:\n",
    "        idx = len(char_to_idx)\n",
    "        char_to_idx[absent_char] = idx\n",
    "        idx_to_char[idx] = absent_char\n",
    "        \n",
    "    return word_to_idx, tag_to_idx, char_to_idx, idx_to_word, idx_to_tag, idx_to_char\n",
    "\n",
    "\n",
    "def prepare_sequence(sequence, dictionary, absent_key=None, random_key=None, random_chance=0.1):  \n",
    "    \"\"\"\n",
    "    Translate sequence according to dictionary.\n",
    "    Args:\n",
    "        sequence (list): list of keys\n",
    "        dictionary (dict): mapping from key to integer\n",
    "        absent_key (str): key which will substitute absent keys in sequence.\n",
    "                            if None, absent keys will be ignored\n",
    "        random_key (bool): key which will substitute keys in sequence \n",
    "                            with some chance (10% maybe)\n",
    "                            if None, random substitution will not be used.\n",
    "    Returns:\n",
    "        list of transformed sequence\n",
    "    \"\"\"\n",
    "    translated_seq = []\n",
    "    for key in sequence:\n",
    "        # Handle absent keys if absent_key specified\n",
    "        if key not in dictionary:\n",
    "            if absent_key is not None:\n",
    "                translated_seq.append(dictionary[absent_key])\n",
    "        # Random substitute if random_key specified\n",
    "        elif random_key is not None and torch.rand(1)[0]<random_chance:\n",
    "            translated_seq.append(dictionary[random_key])\n",
    "        else:\n",
    "            translated_seq.append(dictionary[key])\n",
    "    return torch.tensor(translated_seq, dtype=torch.long)"
   ]
  },
  {
   "cell_type": "code",
   "execution_count": 202,
   "metadata": {},
   "outputs": [],
   "source": [
    "train_dataset = read_dataset(\"corpus.train\", with_tags=True)"
   ]
  },
  {
   "cell_type": "code",
   "execution_count": 203,
   "metadata": {},
   "outputs": [],
   "source": [
    "word_to_idx, tag_to_idx, char_to_idx, idx_to_word, idx_to_tag, idx_to_char = dataset_to_dictionary(train_dataset, \n",
    "                                                                                                   absent_pair=ABSENT_PAIR, \n",
    "                                                                                                   absent_char=PADDING_CHAR)"
   ]
  },
  {
   "cell_type": "code",
   "execution_count": 207,
   "metadata": {},
   "outputs": [],
   "source": [
    "class ComplicatedModel(nn.Module):\n",
    "    def __init__(self, char_emb_dim, word_emb_dim, hidden_dim, vocab_size, charset_size, tagset_size, window, l):\n",
    "        super(ComplicatedModel, self).__init__()\n",
    "        self.char_embeddings = nn.Embedding(charset_size, char_emb_dim)\n",
    "        self.word_embeddings = nn.Embedding(vocab_size, word_emb_dim)\n",
    "        \n",
    "        self.conv1 = nn.Conv1d(char_emb_dim, l, window, padding=(window-1)//2)\n",
    "        \n",
    "        self.lstm = nn.LSTM(word_emb_dim+l, hidden_dim, bidirectional=True)\n",
    "        self.hidden2tag = nn.Linear(hidden_dim*2, tagset_size)\n",
    "    def forward(self, sentence, words):\n",
    "        # Pass each window through CNN, max_pool the results for each word\n",
    "        cnn_word_vecs = []\n",
    "        for chars in words:\n",
    "            chars_batch = char_embeddings(chars)\n",
    "            chars_batch = chars_batch.permute(0,2,1)\n",
    "            \n",
    "            conv_out = self.conv1(chars_batch)\n",
    "            \n",
    "            pool_out, _ = torch.max(conv_out, dim=2)\n",
    "            pool_out = torch.reshape(pool_out, (-1,))\n",
    "            \n",
    "            cnn_word_vecs.append(pool_out)\n",
    "            \n",
    "        cnn_word_vecs = torch.stack(cnn_word_vecs)\n",
    "        word_embeds = self.word_embeddings(sentence)\n",
    "    \n",
    "        concated = torch.cat((word_embeds, cnn_word_vecs), dim=1)\n",
    "        lstm_out, _ = self.lstm(concated.view(len(sentence), 1, -1))\n",
    "        tag_space = self.hidden2tag(lstm_out.view(len(sentence), -1))\n",
    "        tag_scores = F.log_softmax(tag_space, dim=1)\n",
    "        return tag_scores        "
   ]
  },
  {
   "cell_type": "code",
   "execution_count": 208,
   "metadata": {},
   "outputs": [],
   "source": [
    "model = ComplicatedModel(char_emb_dim=10,\n",
    "                         word_emb_dim=10,\n",
    "                         hidden_dim=6,\n",
    "                         charset_size=len(char_to_idx),\n",
    "                         vocab_size=len(char_to_idx),\n",
    "                         tagset_size=len(tag_to_idx),\n",
    "                         window=WINDOW_LEN, \n",
    "                         l = 5)"
   ]
  },
  {
   "cell_type": "code",
   "execution_count": 209,
   "metadata": {},
   "outputs": [
    {
     "name": "stdout",
     "output_type": "stream",
     "text": [
      "torch.Size([49, 47])\n"
     ]
    }
   ],
   "source": [
    "for sentence in train_dataset:\n",
    "    words, taggs = sentence\n",
    "    codded_sentence = prepare_sequence(words, word_to_idx, absent_key=ABSENT_WORD[0], random_key=None)\n",
    "    codded_words = []\n",
    "    for word in words:\n",
    "        codded_word = prepare_sequence(word, char_to_idx, absent_key=PADDING_CHAR)\n",
    "        codded_word = torch.reshape(codded_word, (1,-1))\n",
    "        codded_words.append(codded_word)\n",
    "    print(model(codded_sentence, codded_words).size())\n",
    "    break\n"
   ]
  },
  {
   "cell_type": "code",
   "execution_count": null,
   "metadata": {},
   "outputs": [],
   "source": []
  },
  {
   "cell_type": "code",
   "execution_count": null,
   "metadata": {},
   "outputs": [],
   "source": []
  }
 ],
 "metadata": {
  "kernelspec": {
   "display_name": "Python 3",
   "language": "python",
   "name": "python3"
  },
  "language_info": {
   "codemirror_mode": {
    "name": "ipython",
    "version": 3
   },
   "file_extension": ".py",
   "mimetype": "text/x-python",
   "name": "python",
   "nbconvert_exporter": "python",
   "pygments_lexer": "ipython3",
   "version": "3.9.1"
  }
 },
 "nbformat": 4,
 "nbformat_minor": 5
}
